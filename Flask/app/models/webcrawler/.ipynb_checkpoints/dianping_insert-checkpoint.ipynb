{
 "cells": [
  {
   "cell_type": "code",
   "execution_count": null,
   "metadata": {},
   "outputs": [],
   "source": [
    "from app.database import DB\n",
    "from app.models.rating import Rating\n",
    "\n",
    "\n",
    "\n",
    "\n",
    "\n",
    "reviewId = initial_num  # 评论ID\n",
    "user_id = ''  # 用户Id\n",
    "name = userid  # 用户名\n",
    "comment = comment  # 评论\n",
    "star = rating  # 评分\n",
    "timestamp = int(timestamp)  # 评论时间戳\n",
    "\n",
    "\n",
    "rating = Rating(reviewId, user_id, name, '', restid,\n",
    "                star, comment, url, timestamp, '大众点评')\n",
    "rating.insert()\n"
   ]
  }
 ],
 "metadata": {
  "kernelspec": {
   "display_name": "Python 3",
   "language": "python",
   "name": "python3"
  },
  "language_info": {
   "codemirror_mode": {
    "name": "ipython",
    "version": 3
   },
   "file_extension": ".py",
   "mimetype": "text/x-python",
   "name": "python",
   "nbconvert_exporter": "python",
   "pygments_lexer": "ipython3",
   "version": "3.7.1"
  }
 },
 "nbformat": 4,
 "nbformat_minor": 2
}
